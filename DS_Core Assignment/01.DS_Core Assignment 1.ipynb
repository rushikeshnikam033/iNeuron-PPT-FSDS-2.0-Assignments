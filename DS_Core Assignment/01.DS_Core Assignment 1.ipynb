{
 "cells": [
  {
   "cell_type": "markdown",
   "id": "9f8f4c8b-8075-456d-acdf-af8f516b09ce",
   "metadata": {},
   "source": [
    "(1) Write a Python program to reverse a string without using any built-in string reversal functions."
   ]
  },
  {
   "cell_type": "code",
   "execution_count": 3,
   "id": "95327e30-f524-4112-b0c3-8d283509c44f",
   "metadata": {},
   "outputs": [
    {
     "name": "stdin",
     "output_type": "stream",
     "text": [
      "Enter a string:  Rushi\n"
     ]
    },
    {
     "name": "stdout",
     "output_type": "stream",
     "text": [
      "Reversed string: ihsuR\n"
     ]
    }
   ],
   "source": [
    "def reverse_string(string):\n",
    "    reversed_string = \"\"\n",
    "    for i in range(len(string) - 1, -1, -1):\n",
    "        reversed_string += string[i]\n",
    "    return reversed_string\n",
    "\n",
    "# Example usage\n",
    "input_string = input(\"Enter a string: \")\n",
    "reversed_string = reverse_string(input_string)\n",
    "print(\"Reversed string:\", reversed_string)"
   ]
  },
  {
   "cell_type": "markdown",
   "id": "c7cde004-3b0c-411c-80a0-3ad688b37be3",
   "metadata": {},
   "source": []
  },
  {
   "cell_type": "markdown",
   "id": "afa75ac0-7ddb-407d-ae11-6d3d56228ced",
   "metadata": {},
   "source": []
  },
  {
   "cell_type": "markdown",
   "id": "0ec54c8d-3ba2-4399-9a97-9171ac6f8e10",
   "metadata": {},
   "source": [
    "(2) Implement a function to check if a given string is a palindrome."
   ]
  },
  {
   "cell_type": "markdown",
   "id": "f56b2fa4-6ce7-4b5c-be32-e3f8d6ba8b0f",
   "metadata": {},
   "source": [
    "Ans :- A string is said to be a palindrome if the reverse of the string is the same as the string. For example, “radar” is a          palindrome, but “radix” is not a palindrome."
   ]
  },
  {
   "cell_type": "code",
   "execution_count": 4,
   "id": "067246bf-db18-4673-a968-95cf0e8a5a98",
   "metadata": {},
   "outputs": [
    {
     "name": "stdin",
     "output_type": "stream",
     "text": [
      "Enter a string:  Rushi\n"
     ]
    },
    {
     "name": "stdout",
     "output_type": "stream",
     "text": [
      "The string is not a palindrome.\n"
     ]
    }
   ],
   "source": [
    "def is_palindrome(string):\n",
    "    # Remove whitespace and convert to lowercase\n",
    "    string = string.replace(\" \", \"\").lower()\n",
    "\n",
    "    # Check if the string is equal to its reverse\n",
    "    return string == string[::-1]\n",
    "\n",
    "# Example usage\n",
    "input_string = input(\"Enter a string: \")\n",
    "if is_palindrome(input_string):\n",
    "    print(\"The string is a palindrome.\")\n",
    "else:\n",
    "    print(\"The string is not a palindrome.\")\n"
   ]
  },
  {
   "cell_type": "markdown",
   "id": "e74a6a0d-f3b3-4cca-a06b-d0f42e089fa2",
   "metadata": {},
   "source": []
  },
  {
   "cell_type": "markdown",
   "id": "a30dd0c1-d9e2-474a-bc81-594f1383ca94",
   "metadata": {},
   "source": []
  },
  {
   "cell_type": "markdown",
   "id": "51a5c10b-1c52-44d3-a9cd-080d5ade2b6a",
   "metadata": {},
   "source": [
    "(3) Write a program to find the largest element in a given list"
   ]
  },
  {
   "cell_type": "code",
   "execution_count": 9,
   "id": "d7b851f2-9f82-4f73-94ba-25d317917e5c",
   "metadata": {},
   "outputs": [
    {
     "name": "stdout",
     "output_type": "stream",
     "text": [
      "The largest element is: 25\n"
     ]
    }
   ],
   "source": [
    "def find_largest_element(lst):\n",
    "    if not lst:\n",
    "        return None\n",
    "\n",
    "    largest = lst[0]\n",
    "    for num in lst:\n",
    "        if num > largest:\n",
    "            largest = num\n",
    "\n",
    "    return largest\n",
    "\n",
    "# Example usage\n",
    "input_list = [17, 3, 9, 25, 12, 6]\n",
    "largest_element = find_largest_element(input_list)\n",
    "print(\"The largest element is:\", largest_element)"
   ]
  },
  {
   "cell_type": "markdown",
   "id": "2dd5f82d-92df-4fb7-ac64-adf63dda13e3",
   "metadata": {},
   "source": []
  },
  {
   "cell_type": "markdown",
   "id": "7f9751b5-405a-4308-986b-683e8d8e99b0",
   "metadata": {},
   "source": []
  },
  {
   "cell_type": "markdown",
   "id": "7bed59d1-66bf-4624-9af4-dafdcbd19029",
   "metadata": {},
   "source": [
    "(4) Implement a function to count the occurrence of each element in a list"
   ]
  },
  {
   "cell_type": "code",
   "execution_count": 11,
   "id": "41cc053c-c977-4680-9968-6e6de195b2a3",
   "metadata": {},
   "outputs": [
    {
     "name": "stdout",
     "output_type": "stream",
     "text": [
      "Element counts: {1: 3, 2: 3, 3: 2, 4: 1, 5: 1}\n"
     ]
    }
   ],
   "source": [
    "def count_occurrences(lst):\n",
    "    occurrences = {}\n",
    "    for element in lst:\n",
    "        if element in occurrences:\n",
    "            occurrences[element] += 1\n",
    "        else:\n",
    "            occurrences[element] = 1\n",
    "    return occurrences\n",
    "\n",
    "# Example usage\n",
    "input_list = [1, 2, 3, 2, 4, 1, 5, 3, 2, 1]\n",
    "element_counts = count_occurrences(input_list)\n",
    "print(\"Element counts:\", element_counts)\n"
   ]
  },
  {
   "cell_type": "markdown",
   "id": "a04d7ecd-1853-4210-bcf5-7e7eaa4ef2aa",
   "metadata": {},
   "source": []
  },
  {
   "cell_type": "markdown",
   "id": "ac52653d-2e0d-4d96-8b06-cbac41b4c209",
   "metadata": {},
   "source": []
  },
  {
   "cell_type": "markdown",
   "id": "bd041f7e-e36d-4bca-84ba-c3fea5d4f39a",
   "metadata": {},
   "source": [
    "(5) Write a Python program to find the second largest number in a list."
   ]
  },
  {
   "cell_type": "code",
   "execution_count": 15,
   "id": "3352c16c-8cec-45a1-933b-1d033d7216e3",
   "metadata": {},
   "outputs": [
    {
     "name": "stdout",
     "output_type": "stream",
     "text": [
      "The second largest number is: 15\n"
     ]
    }
   ],
   "source": [
    "def find_second_largest(lst):\n",
    "    if len(lst) < 2:\n",
    "        return None\n",
    "\n",
    "    largest = lst[0]\n",
    "    second_largest = float('-inf')\n",
    "\n",
    "    for num in lst:\n",
    "        if num > largest:\n",
    "            second_largest = largest\n",
    "            largest = num\n",
    "        elif num > second_largest and num != largest:\n",
    "            second_largest = num\n",
    "\n",
    "    if second_largest == float('-inf'):\n",
    "        return None\n",
    "    else:\n",
    "        return second_largest\n",
    "\n",
    "# Example usage\n",
    "input_list = [12, 7, 15, 9, 20, 11]\n",
    "second_largest = find_second_largest(input_list)\n",
    "if second_largest is None:\n",
    "    print(\"There is no second largest number.\")\n",
    "else:\n",
    "    print(\"The second largest number is:\", second_largest)\n"
   ]
  },
  {
   "cell_type": "markdown",
   "id": "86470c99-a406-4afe-a41d-3cd1692c662b",
   "metadata": {},
   "source": []
  },
  {
   "cell_type": "markdown",
   "id": "7ea499fc-63ab-45b9-80b7-fed5b33a04da",
   "metadata": {},
   "source": []
  },
  {
   "cell_type": "markdown",
   "id": "2b554b88-1fe9-4000-b8b3-a04660aa6749",
   "metadata": {},
   "source": [
    "(6) Implement a function to remove duplicate elements from a list."
   ]
  },
  {
   "cell_type": "code",
   "execution_count": 16,
   "id": "abd49223-5a30-4d26-a6dd-e0124fd903c7",
   "metadata": {},
   "outputs": [
    {
     "name": "stdout",
     "output_type": "stream",
     "text": [
      "List with duplicates removed: [1, 2, 3, 4, 5]\n"
     ]
    }
   ],
   "source": [
    "def remove_duplicates(lst):\n",
    "    seen = set()\n",
    "    result = []\n",
    "    for element in lst:\n",
    "        if element not in seen:\n",
    "            result.append(element)\n",
    "            seen.add(element)\n",
    "    return result\n",
    "\n",
    "# Example usage\n",
    "input_list = [1, 2, 3, 2, 4, 1, 5, 3, 2, 1]\n",
    "deduplicated_list = remove_duplicates(input_list)\n",
    "print(\"List with duplicates removed:\", deduplicated_list)\n"
   ]
  },
  {
   "cell_type": "markdown",
   "id": "a2bc1ab9-12f5-4903-951c-7cfc83153537",
   "metadata": {},
   "source": []
  },
  {
   "cell_type": "markdown",
   "id": "4c039295-71d6-4de9-82f4-cb0fbfdde7c1",
   "metadata": {},
   "source": []
  },
  {
   "cell_type": "markdown",
   "id": "df33e85e-515e-4256-b94c-821d931887b7",
   "metadata": {},
   "source": [
    "(7) Write a program to calculate the factorial of a given number."
   ]
  },
  {
   "cell_type": "markdown",
   "id": "52359b7d-6f2a-4046-a9ec-96318fe002c1",
   "metadata": {},
   "source": [
    "Ans :-Factorial of a positive integer (number) is the sum of multiplication of all the integers smaller than that positive           integer. For example, factorial of 5 is 5 * 4 * 3 * 2 * 1 which equals to 120."
   ]
  },
  {
   "cell_type": "code",
   "execution_count": 17,
   "id": "509a7338-e1c3-44ad-bc8c-1fc037c4a0d4",
   "metadata": {},
   "outputs": [
    {
     "name": "stdin",
     "output_type": "stream",
     "text": [
      "Enter a number:  5\n"
     ]
    },
    {
     "name": "stdout",
     "output_type": "stream",
     "text": [
      "Factorial of 5 is: 120\n"
     ]
    }
   ],
   "source": [
    "def factorial(n):\n",
    "    if n < 0:\n",
    "        return None\n",
    "    if n == 0:\n",
    "        return 1\n",
    "    else:\n",
    "        result = 1\n",
    "        for i in range(1, n + 1):\n",
    "            result *= i\n",
    "        return result\n",
    "\n",
    "# Example usage\n",
    "num = int(input(\"Enter a number: \"))\n",
    "fact = factorial(num)\n",
    "if fact is None:\n",
    "    print(\"Factorial cannot be calculated for a negative number.\")\n",
    "else:\n",
    "    print(\"Factorial of\", num, \"is:\", fact)\n",
    "\n"
   ]
  },
  {
   "cell_type": "markdown",
   "id": "4fdccd80-f86d-4037-b7f3-47bc07ca7f8b",
   "metadata": {},
   "source": []
  },
  {
   "cell_type": "markdown",
   "id": "f41fd454-9bd9-4fe9-9194-8a0f7c1cc695",
   "metadata": {},
   "source": []
  },
  {
   "cell_type": "markdown",
   "id": "a49b3ce6-a1a3-4438-9d79-06fa896e3691",
   "metadata": {},
   "source": [
    "(8) Implement a function to check if a given number is prime"
   ]
  },
  {
   "cell_type": "markdown",
   "id": "339bc857-7105-40e2-89fb-7180a7ccaa65",
   "metadata": {},
   "source": [
    "Ans :- A prime number is a whole number greater than 1 whose only factors are 1 and itself. A factor is a whole number that          can be divided evenly into another number. The first few prime numbers are 2, 3, 5, 7, 11, 13, 17, 19, 23 and 29.              Numbers that have more than two factors are called composite numbers."
   ]
  },
  {
   "cell_type": "code",
   "execution_count": 19,
   "id": "4612c127-6803-423c-b351-7cba698f41ed",
   "metadata": {},
   "outputs": [
    {
     "name": "stdin",
     "output_type": "stream",
     "text": [
      "Enter a number:  12\n"
     ]
    },
    {
     "name": "stdout",
     "output_type": "stream",
     "text": [
      "12 is not a prime number.\n"
     ]
    }
   ],
   "source": [
    "def is_prime(n):\n",
    "    if n <= 1:\n",
    "        return False\n",
    "\n",
    "    for i in range(2, int(n**0.5) + 1):\n",
    "        if n % i == 0:\n",
    "            return False\n",
    "\n",
    "    return True\n",
    "\n",
    "# Example usage\n",
    "num = int(input(\"Enter a number: \"))\n",
    "if is_prime(num):\n",
    "    print(num, \"is a prime number.\")\n",
    "else:\n",
    "    print(num, \"is not a prime number.\")\n"
   ]
  },
  {
   "cell_type": "markdown",
   "id": "4d4a3e4d-67a6-4073-a031-a92c0c3cb6de",
   "metadata": {},
   "source": []
  },
  {
   "cell_type": "markdown",
   "id": "87f34f40-0e1c-4b92-a376-3c8357fe2b71",
   "metadata": {},
   "source": []
  },
  {
   "cell_type": "markdown",
   "id": "067c75f0-fb7c-44c3-aaa0-b8dbb8eecbbd",
   "metadata": {},
   "source": [
    "(9) Write a Python program to sort a list of integers in ascending order."
   ]
  },
  {
   "cell_type": "code",
   "execution_count": 20,
   "id": "9abde080-fc50-4004-bbdf-e5888616d27c",
   "metadata": {},
   "outputs": [
    {
     "name": "stdout",
     "output_type": "stream",
     "text": [
      "Sorted list: [1, 2, 3, 5, 8, 9]\n"
     ]
    }
   ],
   "source": [
    "def sort_list(lst):\n",
    "    sorted_lst = sorted(lst)\n",
    "    return sorted_lst\n",
    "\n",
    "# Example usage\n",
    "input_list = [5, 2, 8, 1, 9, 3]\n",
    "sorted_list = sort_list(input_list)\n",
    "print(\"Sorted list:\", sorted_list)\n"
   ]
  },
  {
   "cell_type": "markdown",
   "id": "6ea0dd72-b67f-4526-bcb7-1e5d6487df0e",
   "metadata": {},
   "source": []
  },
  {
   "cell_type": "markdown",
   "id": "f92b056b-15cb-4eb6-9b86-9200509d2060",
   "metadata": {},
   "source": []
  },
  {
   "cell_type": "markdown",
   "id": "8a2ae6ec-be85-4b1b-8780-fec0a4b15827",
   "metadata": {},
   "source": [
    "(10) Implement a function to find the sum of all numbers in a list."
   ]
  },
  {
   "cell_type": "code",
   "execution_count": 23,
   "id": "3a050501-bfae-4e9c-aa75-5095f74d503e",
   "metadata": {},
   "outputs": [
    {
     "name": "stdout",
     "output_type": "stream",
     "text": [
      "Sum of numbers: 15\n"
     ]
    }
   ],
   "source": [
    "def find_sum(lst):\n",
    "    total = 0\n",
    "    for num in lst:\n",
    "        total += num\n",
    "    return total\n",
    "\n",
    "# Example usage\n",
    "input_list = [1, 2, 3, 4, 5]\n",
    "sum_of_numbers = find_sum(input_list)\n",
    "print(\"Sum of numbers:\", sum_of_numbers)\n"
   ]
  },
  {
   "cell_type": "markdown",
   "id": "86767335-c5fd-4c1a-8630-2da56a48527d",
   "metadata": {},
   "source": []
  },
  {
   "cell_type": "markdown",
   "id": "dc485e2c-c1b3-4e99-8ef3-8d0aedd18ef8",
   "metadata": {},
   "source": []
  },
  {
   "cell_type": "markdown",
   "id": "4900567e-e17d-4820-84f7-c0caefbc3e17",
   "metadata": {},
   "source": [
    "(11) Write a program to find the common elements between two lists."
   ]
  },
  {
   "cell_type": "code",
   "execution_count": 24,
   "id": "c141ac4c-252a-4471-99b7-ae3540a37f24",
   "metadata": {},
   "outputs": [
    {
     "name": "stdout",
     "output_type": "stream",
     "text": [
      "Common elements: [4, 5]\n"
     ]
    }
   ],
   "source": [
    "def find_common_elements(list1, list2):\n",
    "    common_elements = set(list1) & set(list2)\n",
    "    return list(common_elements)\n",
    "\n",
    "# Example usage\n",
    "list1 = [1, 2, 3, 4, 5]\n",
    "list2 = [4, 5, 6, 7, 8]\n",
    "common_elements = find_common_elements(list1, list2)\n",
    "print(\"Common elements:\", common_elements)\n"
   ]
  },
  {
   "cell_type": "markdown",
   "id": "46d23193-55a6-4080-9ad3-0d5918ff922d",
   "metadata": {},
   "source": []
  },
  {
   "cell_type": "markdown",
   "id": "28bc3fb7-86e1-4e36-944d-138937756044",
   "metadata": {},
   "source": []
  },
  {
   "cell_type": "markdown",
   "id": "f2ab5ec2-927d-46d9-9ab9-8e89ba21333c",
   "metadata": {},
   "source": [
    "(12) Implement a function to check if a given string is an anagram of another string."
   ]
  },
  {
   "cell_type": "markdown",
   "id": "4edb63dd-21ed-4c1d-9e78-cae1fabecb2c",
   "metadata": {},
   "source": [
    "Ans :-Anagram program in python is when strings share the same no of characters and also the same characters then strings are       called anagrams. The rearrangement of similar characters or letters in a string even if they don't have the same               meanings are anagrams. e.g : Listen = silent , race = care"
   ]
  },
  {
   "cell_type": "code",
   "execution_count": 27,
   "id": "427c0f88-c992-4c3b-8f7c-5b1a5a967bc9",
   "metadata": {},
   "outputs": [
    {
     "name": "stdin",
     "output_type": "stream",
     "text": [
      "Enter the first string:  race\n",
      "Enter the second string:  care\n"
     ]
    },
    {
     "name": "stdout",
     "output_type": "stream",
     "text": [
      "The strings are anagrams.\n"
     ]
    }
   ],
   "source": [
    "def is_anagram(str1, str2):\n",
    "    str1 = str1.lower().replace(\" \", \"\")\n",
    "    str2 = str2.lower().replace(\" \", \"\")\n",
    "\n",
    "    return sorted(str1) == sorted(str2)\n",
    "\n",
    "# Example usage\n",
    "string1 = input(\"Enter the first string: \")\n",
    "string2 = input(\"Enter the second string: \")\n",
    "\n",
    "if is_anagram(string1, string2):\n",
    "    print(\"The strings are anagrams.\")\n",
    "else:\n",
    "    print(\"The strings are not anagrams.\")\n"
   ]
  },
  {
   "cell_type": "markdown",
   "id": "b49d1408-bb2a-4870-b60b-b9ffbec49262",
   "metadata": {},
   "source": []
  },
  {
   "cell_type": "markdown",
   "id": "fecf21c1-75bf-41fd-81e7-fc08b22a2474",
   "metadata": {},
   "source": []
  },
  {
   "cell_type": "markdown",
   "id": "63cf4cfd-32f1-4936-9426-9f91a812bf5e",
   "metadata": {},
   "source": [
    "(13) Write a Python program to generate all permutations of a given string."
   ]
  },
  {
   "cell_type": "code",
   "execution_count": 29,
   "id": "4c71239a-5698-48be-bc21-d98ec7568121",
   "metadata": {},
   "outputs": [
    {
     "name": "stdin",
     "output_type": "stream",
     "text": [
      "Enter a string:  ram\n"
     ]
    },
    {
     "name": "stdout",
     "output_type": "stream",
     "text": [
      "Permutations:\n",
      "ram\n",
      "rma\n",
      "arm\n",
      "amr\n",
      "mra\n",
      "mar\n"
     ]
    }
   ],
   "source": [
    "def permutations(string):\n",
    "    if len(string) == 1:\n",
    "        return [string]\n",
    "\n",
    "    perms = []\n",
    "    for i in range(len(string)):\n",
    "        char = string[i]\n",
    "        remaining_chars = string[:i] + string[i+1:]\n",
    "        sub_perms = permutations(remaining_chars)\n",
    "\n",
    "        for perm in sub_perms:\n",
    "            perms.append(char + perm)\n",
    "\n",
    "    return perms\n",
    "\n",
    "# Example usage\n",
    "input_string = input(\"Enter a string: \")\n",
    "perms = permutations(input_string)\n",
    "print(\"Permutations:\")\n",
    "for perm in perms:\n",
    "    print(perm)\n"
   ]
  },
  {
   "cell_type": "markdown",
   "id": "89f54a94-fde2-4a69-8100-2ecf25b79aa6",
   "metadata": {},
   "source": []
  },
  {
   "cell_type": "markdown",
   "id": "806dffe0-0c61-409e-8f86-83ebbafc235c",
   "metadata": {},
   "source": []
  },
  {
   "cell_type": "markdown",
   "id": "c7a7ddac-aa99-4433-a767-e298daf80731",
   "metadata": {},
   "source": [
    "(14) Implement a function to calculate the Fibonacci sequence up to a given number of terms."
   ]
  },
  {
   "cell_type": "markdown",
   "id": "081c60d5-194c-4686-b35c-f1e102fab754",
   "metadata": {},
   "source": [
    "Ans :- A Fibonacci sequence is the integer sequence of 0, 1, 1, 2, 3, 5, 8.... The first two terms are 0 and 1. All other terms are obtained by adding the preceding two terms. This means to say the nth term is the sum of (n-1)th and (n-2)th term."
   ]
  },
  {
   "cell_type": "code",
   "execution_count": 33,
   "id": "b36fd89d-6487-43d1-8384-5056f2146943",
   "metadata": {},
   "outputs": [
    {
     "name": "stdin",
     "output_type": "stream",
     "text": [
      "Enter the number of Fibonacci terms to generate:  10\n"
     ]
    },
    {
     "name": "stdout",
     "output_type": "stream",
     "text": [
      "Fibonacci sequence:\n",
      "[0, 1, 1, 2, 3, 5, 8, 13, 21, 34]\n"
     ]
    }
   ],
   "source": [
    "def fibonacci(n):\n",
    "    if n <= 0:\n",
    "        return []\n",
    "\n",
    "    sequence = [0, 1]\n",
    "    while len(sequence) < n:\n",
    "        next_number = sequence[-1] + sequence[-2]\n",
    "        sequence.append(next_number)\n",
    "\n",
    "    return sequence\n",
    "\n",
    "# Example usage\n",
    "num_terms = int(input(\"Enter the number of Fibonacci terms to generate: \"))\n",
    "fib_seq = fibonacci(num_terms)\n",
    "print(\"Fibonacci sequence:\")\n",
    "print(fib_seq)\n"
   ]
  },
  {
   "cell_type": "markdown",
   "id": "94255464-a9f8-4e8a-88e5-bb674fef96c4",
   "metadata": {},
   "source": []
  },
  {
   "cell_type": "markdown",
   "id": "7a4b9f1c-787a-4d7c-a2fd-01dfce7e4300",
   "metadata": {},
   "source": []
  },
  {
   "cell_type": "markdown",
   "id": "505ee062-b420-4c64-8c2a-072c5e8513a8",
   "metadata": {},
   "source": [
    "(15) Write a program to find the median of a list of numbers."
   ]
  },
  {
   "cell_type": "code",
   "execution_count": 34,
   "id": "b996e67b-a849-4ca8-88ac-72c8e8b096b3",
   "metadata": {},
   "outputs": [
    {
     "name": "stdout",
     "output_type": "stream",
     "text": [
      "Median: 5.5\n"
     ]
    }
   ],
   "source": [
    "def find_median(numbers):\n",
    "    sorted_numbers = sorted(numbers)\n",
    "    n = len(sorted_numbers)\n",
    "\n",
    "    if n % 2 == 0:\n",
    "        middle_1 = sorted_numbers[n // 2 - 1]\n",
    "        middle_2 = sorted_numbers[n // 2]\n",
    "        median = (middle_1 + middle_2) / 2\n",
    "    else:\n",
    "        median = sorted_numbers[n // 2]\n",
    "\n",
    "    return median\n",
    "\n",
    "# Example usage\n",
    "input_list = [7, 2, 10, 4, 6, 1, 9, 5]\n",
    "median = find_median(input_list)\n",
    "print(\"Median:\", median)\n"
   ]
  },
  {
   "cell_type": "markdown",
   "id": "0f8d21b1-c3b1-4356-bf13-6b1a5b17a7e3",
   "metadata": {},
   "source": []
  },
  {
   "cell_type": "markdown",
   "id": "474ccf22-94d9-4499-b704-ff5520cc6a53",
   "metadata": {},
   "source": []
  },
  {
   "cell_type": "markdown",
   "id": "1f934a13-de06-4ee8-8e8b-bc9e3c45a956",
   "metadata": {},
   "source": [
    "(16) Implement a function to check if a given list is sorted in non-decreasing order."
   ]
  },
  {
   "cell_type": "code",
   "execution_count": 38,
   "id": "a92b8fe8-e12b-4462-84af-8cf7c6de2f7e",
   "metadata": {},
   "outputs": [
    {
     "name": "stdout",
     "output_type": "stream",
     "text": [
      "The list is sorted in non-decreasing order.\n"
     ]
    }
   ],
   "source": [
    "def is_sorted(lst):\n",
    "    for i in range(len(lst) - 1):\n",
    "        if lst[i] > lst[i + 1]:\n",
    "            return False\n",
    "    return True\n",
    "\n",
    "# Example usage\n",
    "input_list = [1, 2, 3, 4, 5]\n",
    "if is_sorted(input_list):\n",
    "    print(\"The list is sorted in non-decreasing order.\")\n",
    "else:\n",
    "    print(\"The list is not sorted in non-decreasing order.\")\n",
    "\n"
   ]
  },
  {
   "cell_type": "markdown",
   "id": "e7fbda73-915d-44d9-8f7c-830335c7b708",
   "metadata": {},
   "source": []
  },
  {
   "cell_type": "markdown",
   "id": "0bbbefb0-da43-403b-a9ff-b11bb2d17ff8",
   "metadata": {},
   "source": []
  },
  {
   "cell_type": "markdown",
   "id": "b569be4c-b870-484d-b200-3f0798825bc5",
   "metadata": {},
   "source": [
    "(17) Write a Python program to find the intersection of two lists.\n"
   ]
  },
  {
   "cell_type": "code",
   "execution_count": 39,
   "id": "bf25ac0b-a539-4198-b3af-666d1d19c0c1",
   "metadata": {},
   "outputs": [
    {
     "name": "stdout",
     "output_type": "stream",
     "text": [
      "Intersection: [4, 5]\n"
     ]
    }
   ],
   "source": [
    "def find_intersection(list1, list2):\n",
    "    intersection = set(list1) & set(list2)\n",
    "    return list(intersection)\n",
    "\n",
    "# Example usage\n",
    "list1 = [1, 2, 3, 4, 5]\n",
    "list2 = [4, 5, 6, 7, 8]\n",
    "intersection = find_intersection(list1, list2)\n",
    "print(\"Intersection:\", intersection)\n"
   ]
  },
  {
   "cell_type": "markdown",
   "id": "2280b0aa-ff97-4aa7-a663-d3e46a869650",
   "metadata": {},
   "source": []
  },
  {
   "cell_type": "markdown",
   "id": "73461a3c-da3b-48d6-b49c-91e7d5465362",
   "metadata": {},
   "source": []
  },
  {
   "cell_type": "markdown",
   "id": "398699c8-d946-44e9-bfb2-29d4028b7f8f",
   "metadata": {},
   "source": [
    "(18) Implement a function to find the maximum subarray sum in a given list.\n"
   ]
  },
  {
   "cell_type": "code",
   "execution_count": 40,
   "id": "31ce1f49-d7fc-40e1-a4e0-df9c7580b214",
   "metadata": {},
   "outputs": [
    {
     "name": "stdout",
     "output_type": "stream",
     "text": [
      "Maximum subarray sum: 6\n"
     ]
    }
   ],
   "source": [
    "def find_max_subarray_sum(lst):\n",
    "    if not lst:\n",
    "        return 0\n",
    "\n",
    "    current_sum = max_sum = lst[0]\n",
    "    for num in lst[1:]:\n",
    "        current_sum = max(num, current_sum + num)\n",
    "        max_sum = max(max_sum, current_sum)\n",
    "\n",
    "    return max_sum\n",
    "\n",
    "# Example usage\n",
    "input_list = [-2, 1, -3, 4, -1, 2, 1, -5, 4]\n",
    "max_subarray_sum = find_max_subarray_sum(input_list)\n",
    "print(\"Maximum subarray sum:\", max_subarray_sum)\n"
   ]
  },
  {
   "cell_type": "markdown",
   "id": "d03f3cd0-0250-4387-b911-5897dae27c1b",
   "metadata": {},
   "source": []
  },
  {
   "cell_type": "markdown",
   "id": "a823d00a-cbca-42b2-a27d-9c9cf4166f11",
   "metadata": {},
   "source": []
  },
  {
   "cell_type": "markdown",
   "id": "1b53f843-a3be-405a-9936-86f6a9efe36b",
   "metadata": {},
   "source": [
    "(19) Write a program to remove all vowels from a given string."
   ]
  },
  {
   "cell_type": "code",
   "execution_count": 41,
   "id": "39589b1f-d8d8-4000-97b0-b0b60860148c",
   "metadata": {},
   "outputs": [
    {
     "name": "stdin",
     "output_type": "stream",
     "text": [
      "Enter a string:  Hello World\n"
     ]
    },
    {
     "name": "stdout",
     "output_type": "stream",
     "text": [
      "String without vowels: Hll Wrld\n"
     ]
    }
   ],
   "source": [
    "def remove_vowels(string):\n",
    "    vowels = 'aeiouAEIOU'\n",
    "    vowels_removed = ''.join(char for char in string if char not in vowels)\n",
    "    return vowels_removed\n",
    "\n",
    "# Example usage\n",
    "input_string = input(\"Enter a string: \")\n",
    "string_without_vowels = remove_vowels(input_string)\n",
    "print(\"String without vowels:\", string_without_vowels)\n"
   ]
  },
  {
   "cell_type": "markdown",
   "id": "791a9e9f-a87e-4f00-8424-3e1f56af092c",
   "metadata": {},
   "source": []
  },
  {
   "cell_type": "markdown",
   "id": "84019509-bdb2-4565-85e0-a18ecee7a317",
   "metadata": {},
   "source": []
  },
  {
   "cell_type": "markdown",
   "id": "4905c863-0ba0-4b17-bee6-f77b8b1c8177",
   "metadata": {},
   "source": [
    "(20) Implement a function to reverse the order of words in a given sentence."
   ]
  },
  {
   "cell_type": "code",
   "execution_count": 43,
   "id": "89d2c7e4-7def-4c8f-aabb-b6d202ae82e3",
   "metadata": {},
   "outputs": [
    {
     "name": "stdout",
     "output_type": "stream",
     "text": [
      "you? are how Hello,\n"
     ]
    }
   ],
   "source": [
    "def reverse_sentence(sentence):\n",
    "    words = sentence.split()\n",
    "    reversed_words = words[::-1]\n",
    "    reversed_sentence = ' '.join(reversed_words)\n",
    "    return reversed_sentence\n",
    "\n",
    "sentence = \"Hello, how are you?\"\n",
    "reversed_sentence = reverse_sentence(sentence)\n",
    "print(reversed_sentence)\n"
   ]
  },
  {
   "cell_type": "markdown",
   "id": "2ccd5c09-43c1-4941-bb4d-ba601556ca12",
   "metadata": {},
   "source": []
  },
  {
   "cell_type": "markdown",
   "id": "7b40b16e-aff1-4315-b1a6-d10eb8b93adb",
   "metadata": {},
   "source": []
  },
  {
   "cell_type": "markdown",
   "id": "c92ddfeb-3c19-43d3-bb0b-10ee86ae7bb7",
   "metadata": {},
   "source": [
    "(21) Write a Python program to check if two strings are anagrams of each other."
   ]
  },
  {
   "cell_type": "code",
   "execution_count": 44,
   "id": "647f2fd3-b331-4931-9ad4-70bfa0da8d08",
   "metadata": {},
   "outputs": [
    {
     "name": "stdout",
     "output_type": "stream",
     "text": [
      "listen and silent are anagrams.\n"
     ]
    }
   ],
   "source": [
    "def are_anagrams(str1, str2):\n",
    "    # Convert strings to lowercase and remove spaces\n",
    "    str1 = str1.lower().replace(\" \", \"\")\n",
    "    str2 = str2.lower().replace(\" \", \"\")\n",
    "    \n",
    "    # Check if the lengths are different\n",
    "    if len(str1) != len(str2):\n",
    "        return False\n",
    "    \n",
    "    # Create dictionaries to count the frequency of characters in both strings\n",
    "    count1 = {}\n",
    "    count2 = {}\n",
    "    \n",
    "    # Count the frequency of characters in the first string\n",
    "    for char in str1:\n",
    "        count1[char] = count1.get(char, 0) + 1\n",
    "    \n",
    "    # Count the frequency of characters in the second string\n",
    "    for char in str2:\n",
    "        count2[char] = count2.get(char, 0) + 1\n",
    "    \n",
    "    # Compare the dictionaries\n",
    "    if count1 == count2:\n",
    "        return True\n",
    "    else:\n",
    "        return False\n",
    "\n",
    "\n",
    "# Test the function\n",
    "string1 = \"listen\"\n",
    "string2 = \"silent\"\n",
    "if are_anagrams(string1, string2):\n",
    "    print(f\"{string1} and {string2} are anagrams.\")\n",
    "else:\n",
    "    print(f\"{string1} and {string2} are not anagrams.\")\n"
   ]
  },
  {
   "cell_type": "markdown",
   "id": "1e957a8c-2309-4d79-ab4a-71c2a665857c",
   "metadata": {},
   "source": []
  },
  {
   "cell_type": "markdown",
   "id": "79fca0fc-e1c5-42f8-8f5c-fe315b2374e8",
   "metadata": {},
   "source": []
  },
  {
   "cell_type": "markdown",
   "id": "be75d62d-510f-4fb3-8034-ff4394b8da4e",
   "metadata": {},
   "source": [
    "(22) Implement a function to find the first non-repeating character in a string."
   ]
  },
  {
   "cell_type": "code",
   "execution_count": 46,
   "id": "1bb74e35-a1cf-4a09-9a38-9b844b65c945",
   "metadata": {},
   "outputs": [
    {
     "name": "stdout",
     "output_type": "stream",
     "text": [
      "The first non-repeating character in 'aabbcde' is 'c'.\n"
     ]
    }
   ],
   "source": [
    "def find_first_non_repeating_char(string):\n",
    "    char_count = {}\n",
    "    \n",
    "    # Count the frequency of characters in the string\n",
    "    for char in string:\n",
    "        char_count[char] = char_count.get(char, 0) + 1\n",
    "    \n",
    "    # Find the first non-repeating character\n",
    "    for char in string:\n",
    "        if char_count[char] == 1:\n",
    "            return char\n",
    "    \n",
    "    # If no non-repeating character found, return None\n",
    "    return None\n",
    "\n",
    "string = \"aabbcde\"\n",
    "result = find_first_non_repeating_char(string)\n",
    "\n",
    "if result is not None:\n",
    "    print(f\"The first non-repeating character in '{string}' is '{result}'.\")\n",
    "else:\n",
    "    print(\"No non-repeating character found.\")\n"
   ]
  },
  {
   "cell_type": "markdown",
   "id": "d7146ce1-98b3-4fd5-b38e-dbe3a0929760",
   "metadata": {},
   "source": []
  },
  {
   "cell_type": "markdown",
   "id": "8e7f96b0-a780-4572-91d7-846853a85ff2",
   "metadata": {},
   "source": []
  },
  {
   "cell_type": "markdown",
   "id": "13c08f04-07f5-41f5-b56a-4d210ade5301",
   "metadata": {},
   "source": [
    "(23) Write a program to find the prime factors of a given number."
   ]
  },
  {
   "cell_type": "code",
   "execution_count": 47,
   "id": "344edc94-d1b6-40d3-88ea-fbebaccbdfe3",
   "metadata": {},
   "outputs": [
    {
     "name": "stdout",
     "output_type": "stream",
     "text": [
      "The prime factors of 84 are: [2, 2, 21]\n"
     ]
    }
   ],
   "source": [
    "def find_prime_factors(number):\n",
    "    prime_factors = []\n",
    "    divisor = 2\n",
    "    \n",
    "    # Divide the number by 2 until it is no longer divisible by 2\n",
    "    while number % 2 == 0:\n",
    "        prime_factors.append(2)\n",
    "        number //= 2\n",
    "    \n",
    "    # Check divisibility starting from 3\n",
    "    # Increment by 2 to skip even numbers since they are not prime\n",
    "    while divisor * divisor <= number:\n",
    "        if number % divisor == 0:\n",
    "            prime_factors.append(divisor)\n",
    "            number //= divisor\n",
    "        else:\n",
    "            divisor += 2\n",
    "    \n",
    "    # If the remaining number is greater than 1, it is a prime factor\n",
    "    if number > 1:\n",
    "        prime_factors.append(number)\n",
    "    \n",
    "    return prime_factors\n",
    "\n",
    "\n",
    "# Test the function\n",
    "number = 84\n",
    "factors = find_prime_factors(number)\n",
    "print(f\"The prime factors of {number} are: {factors}\")\n"
   ]
  },
  {
   "cell_type": "markdown",
   "id": "0b91dc36-f5bd-4ecf-b6ea-09c1a74fd02f",
   "metadata": {},
   "source": []
  },
  {
   "cell_type": "markdown",
   "id": "4f49e60f-5263-445d-be41-aa47f29f5699",
   "metadata": {},
   "source": []
  },
  {
   "cell_type": "markdown",
   "id": "157fd6ec-5100-482c-97ed-ec4ca0025b21",
   "metadata": {},
   "source": [
    "(24) Implement a function to check if a given number is a power of two."
   ]
  },
  {
   "cell_type": "code",
   "execution_count": 49,
   "id": "124a06d1-8042-4b60-8d4b-b184c6a5892a",
   "metadata": {},
   "outputs": [
    {
     "name": "stdout",
     "output_type": "stream",
     "text": [
      "16 is a power of two.\n"
     ]
    }
   ],
   "source": [
    "def is_power_of_two(number):\n",
    "    if number <= 0:\n",
    "        return False\n",
    "    return (number & (number - 1)) == 0\n",
    "\n",
    "number = 16\n",
    "if is_power_of_two(number):\n",
    "    print(f\"{number} is a power of two.\")\n",
    "else:\n",
    "    print(f\"{number} is not a power of two.\")\n"
   ]
  },
  {
   "cell_type": "markdown",
   "id": "d894fcbc-256a-4f51-8654-6a9548dd45af",
   "metadata": {},
   "source": []
  },
  {
   "cell_type": "markdown",
   "id": "36c9b724-d9b9-4dac-b869-62fa61ed4162",
   "metadata": {},
   "source": []
  },
  {
   "cell_type": "markdown",
   "id": "133edcad-58c2-467e-87a8-ada38264cec4",
   "metadata": {},
   "source": [
    "(25) Write a Python program to merge two sorted lists into a single sorted list.\n"
   ]
  },
  {
   "cell_type": "code",
   "execution_count": 50,
   "id": "0b6b27b3-78f6-48e8-b64c-cc7526852b90",
   "metadata": {},
   "outputs": [
    {
     "name": "stdout",
     "output_type": "stream",
     "text": [
      "Merged List: [1, 2, 3, 4, 6, 7, 8, 9]\n"
     ]
    }
   ],
   "source": [
    "def merge_sorted_lists(list1, list2):\n",
    "    merged_list = []\n",
    "    i = 0  # Index for list1\n",
    "    j = 0  # Index for list2\n",
    "    \n",
    "    # Merge the two lists until one of them is exhausted\n",
    "    while i < len(list1) and j < len(list2):\n",
    "        if list1[i] <= list2[j]:\n",
    "            merged_list.append(list1[i])\n",
    "            i += 1\n",
    "        else:\n",
    "            merged_list.append(list2[j])\n",
    "            j += 1\n",
    "    \n",
    "    # Append the remaining elements of list1, if any\n",
    "    while i < len(list1):\n",
    "        merged_list.append(list1[i])\n",
    "        i += 1\n",
    "    \n",
    "    # Append the remaining elements of list2, if any\n",
    "    while j < len(list2):\n",
    "        merged_list.append(list2[j])\n",
    "        j += 1\n",
    "    \n",
    "    return merged_list\n",
    "\n",
    "\n",
    "# Test the function\n",
    "list1 = [1, 4, 7, 9]\n",
    "list2 = [2, 3, 6, 8]\n",
    "merged = merge_sorted_lists(list1, list2)\n",
    "print(\"Merged List:\", merged)\n"
   ]
  },
  {
   "cell_type": "markdown",
   "id": "5d7ac77b-905e-4f1a-b0d4-808857944283",
   "metadata": {},
   "source": []
  },
  {
   "cell_type": "markdown",
   "id": "d0b3c739-0126-47d1-8ade-adb96af4b227",
   "metadata": {},
   "source": []
  },
  {
   "cell_type": "markdown",
   "id": "1d539bed-40d9-4c1e-a5c8-e405afb9c8e4",
   "metadata": {},
   "source": [
    "(26) Implement a function to find the mode of a list of numbers.\n"
   ]
  },
  {
   "cell_type": "code",
   "execution_count": 51,
   "id": "541cce15-3c03-4c8e-8474-2672643aa863",
   "metadata": {},
   "outputs": [
    {
     "name": "stdout",
     "output_type": "stream",
     "text": [
      "Mode(s): [4]\n"
     ]
    }
   ],
   "source": [
    "from collections import Counter\n",
    "\n",
    "def find_mode(numbers):\n",
    "    # Use Counter to count the frequency of each number\n",
    "    counter = Counter(numbers)\n",
    "    \n",
    "    # Find the maximum frequency\n",
    "    max_frequency = max(counter.values())\n",
    "    \n",
    "    # Find the numbers with the maximum frequency (the modes)\n",
    "    modes = [number for number, frequency in counter.items() if frequency == max_frequency]\n",
    "    \n",
    "    return modes\n",
    "\n",
    "numbers = [1, 2, 2, 3, 3, 3, 4, 4, 4, 4]\n",
    "modes = find_mode(numbers)\n",
    "print(\"Mode(s):\", modes)\n"
   ]
  },
  {
   "cell_type": "markdown",
   "id": "e8379247-c602-4b77-bc04-62d5edff03e8",
   "metadata": {},
   "source": []
  },
  {
   "cell_type": "markdown",
   "id": "7418d9ec-a022-4f32-8f04-8a18f6b9b4bc",
   "metadata": {},
   "source": []
  },
  {
   "cell_type": "markdown",
   "id": "268be250-dc1e-4f20-a0da-6bce1d558b40",
   "metadata": {},
   "source": [
    "(27) Write a program to find the greatest common divisor (GCD) of two numbers.\n"
   ]
  },
  {
   "cell_type": "code",
   "execution_count": 55,
   "id": "5e3bf105-72f9-47a6-9fcb-b184f9ede785",
   "metadata": {},
   "outputs": [
    {
     "name": "stdout",
     "output_type": "stream",
     "text": [
      "GCD: 12\n"
     ]
    }
   ],
   "source": [
    "def find_gcd(a, b):\n",
    "    # Make sure a is greater than or equal to b\n",
    "    if a < b:\n",
    "        a, b = b, a\n",
    "    \n",
    "    while b != 0:\n",
    "        remainder = a % b\n",
    "        a = b\n",
    "        b = remainder\n",
    "    \n",
    "    return a\n",
    "\n",
    "num1 = 36\n",
    "num2 = 48\n",
    "gcd = find_gcd(num1, num2)\n",
    "print(\"GCD:\", gcd)\n"
   ]
  },
  {
   "cell_type": "markdown",
   "id": "c317e26a-d357-4f9c-a7f4-f1b2947b1df2",
   "metadata": {},
   "source": []
  },
  {
   "cell_type": "markdown",
   "id": "606e6b9c-d2a6-4071-b759-ce82a925b1c3",
   "metadata": {},
   "source": []
  },
  {
   "cell_type": "markdown",
   "id": "f81e95e1-7a9e-474f-8f48-6421e972d34b",
   "metadata": {},
   "source": [
    "(28) Implement a function to calculate the square root of a given number."
   ]
  },
  {
   "cell_type": "code",
   "execution_count": 57,
   "id": "e80f68b1-c14c-4336-aa2e-6d0c1bc6fa16",
   "metadata": {},
   "outputs": [
    {
     "name": "stdout",
     "output_type": "stream",
     "text": [
      "Square Root: 5.000000000053722\n"
     ]
    }
   ],
   "source": [
    "def calculate_square_root(number, epsilon=1e-6):\n",
    "    if number < 0:\n",
    "        raise ValueError(\"Cannot calculate square root of a negative number.\")\n",
    "    \n",
    "    guess = number\n",
    "    while abs(guess * guess - number) > epsilon:\n",
    "        guess = (guess + number / guess) / 2\n",
    "    \n",
    "    return guess\n",
    "\n",
    "number = 25\n",
    "square_root = calculate_square_root(number)\n",
    "print(\"Square Root:\", square_root)\n"
   ]
  },
  {
   "cell_type": "markdown",
   "id": "9a4cae59-05cd-4dad-bd7f-722181fba85a",
   "metadata": {},
   "source": []
  },
  {
   "cell_type": "markdown",
   "id": "2f6499ac-3a77-4dab-8fa7-c99c0eaace05",
   "metadata": {},
   "source": []
  },
  {
   "cell_type": "markdown",
   "id": "f2fe86e4-4d52-4ec9-a431-fa84ccfabdae",
   "metadata": {},
   "source": [
    "(29) Write a Python program to check if a given string is a valid palindrome ignoring non-alphanumeric characters."
   ]
  },
  {
   "cell_type": "code",
   "execution_count": 58,
   "id": "c8290f5d-0484-49f9-9794-b7688a65b268",
   "metadata": {},
   "outputs": [
    {
     "name": "stdout",
     "output_type": "stream",
     "text": [
      "'A man, a plan, a canal: Panama' is a valid palindrome.\n"
     ]
    }
   ],
   "source": [
    "import re\n",
    "\n",
    "def is_valid_palindrome(string):\n",
    "    # Remove non-alphanumeric characters and convert to lowercase\n",
    "    alphanumeric_string = re.sub('[^a-zA-Z0-9]', '', string).lower()\n",
    "    \n",
    "    # Check if the alphanumeric string is a palindrome\n",
    "    return alphanumeric_string == alphanumeric_string[::-1]\n",
    "\n",
    "string = \"A man, a plan, a canal: Panama\"\n",
    "if is_valid_palindrome(string):\n",
    "    print(f\"'{string}' is a valid palindrome.\")\n",
    "else:\n",
    "    print(f\"'{string}' is not a valid palindrome.\")\n"
   ]
  },
  {
   "cell_type": "markdown",
   "id": "2847d505-c7ce-4d41-9bc3-81437415fd40",
   "metadata": {},
   "source": []
  },
  {
   "cell_type": "markdown",
   "id": "08361195-c8bb-457c-9e66-3983d4d22e14",
   "metadata": {},
   "source": []
  },
  {
   "cell_type": "markdown",
   "id": "167d204e-80eb-42c3-870e-d0dbc0a6dec3",
   "metadata": {},
   "source": [
    "(30) Implement a function to find the minimum element in a rotated sorted list."
   ]
  },
  {
   "cell_type": "code",
   "execution_count": 59,
   "id": "15264959-24c4-40b3-b84c-73ff729ee752",
   "metadata": {},
   "outputs": [
    {
     "name": "stdout",
     "output_type": "stream",
     "text": [
      "Minimum Element: 0\n"
     ]
    }
   ],
   "source": [
    "def find_min_element(nums):\n",
    "    left = 0\n",
    "    right = len(nums) - 1\n",
    "    \n",
    "    # If the list is not rotated, return the first element\n",
    "    if nums[left] < nums[right]:\n",
    "        return nums[left]\n",
    "    \n",
    "    # Perform binary search to find the minimum element\n",
    "    while left < right:\n",
    "        mid = left + (right - left) // 2\n",
    "        \n",
    "        if nums[mid] > nums[right]:\n",
    "            left = mid + 1\n",
    "        else:\n",
    "            right = mid\n",
    "    \n",
    "    return nums[left]\n",
    "\n",
    "nums = [4, 5, 6, 7, 0, 1, 2]\n",
    "min_element = find_min_element(nums)\n",
    "print(\"Minimum Element:\", min_element)\n"
   ]
  },
  {
   "cell_type": "markdown",
   "id": "74f00d40-ed89-4be5-b494-aef677e57bbd",
   "metadata": {},
   "source": []
  },
  {
   "cell_type": "markdown",
   "id": "734fe9d3-65f3-469e-9289-638c847264d4",
   "metadata": {},
   "source": []
  },
  {
   "cell_type": "markdown",
   "id": "988d9116-cd11-40de-a3c8-c1c0aad77eb9",
   "metadata": {},
   "source": [
    "(31) Write a program to find the sum of all even numbers in a list."
   ]
  },
  {
   "cell_type": "code",
   "execution_count": 60,
   "id": "4005ecfc-de37-4647-939d-094bd4485c9b",
   "metadata": {},
   "outputs": [
    {
     "name": "stdout",
     "output_type": "stream",
     "text": [
      "Sum of Even Numbers: 30\n"
     ]
    }
   ],
   "source": [
    "def sum_even_numbers(numbers):\n",
    "    sum_even = 0\n",
    "    for num in numbers:\n",
    "        if num % 2 == 0:\n",
    "            sum_even += num\n",
    "    return sum_even\n",
    "\n",
    "numbers = [1, 2, 3, 4, 5, 6, 7, 8, 9, 10]\n",
    "sum_even = sum_even_numbers(numbers)\n",
    "print(\"Sum of Even Numbers:\", sum_even)\n"
   ]
  },
  {
   "cell_type": "markdown",
   "id": "f21e0533-0de6-4201-808a-595d2c2f3188",
   "metadata": {},
   "source": []
  },
  {
   "cell_type": "markdown",
   "id": "3310d866-68a4-4ebb-ac59-be6b451d0811",
   "metadata": {},
   "source": []
  },
  {
   "cell_type": "markdown",
   "id": "288455e9-51fe-42ad-9cdd-9b9d2efbc29e",
   "metadata": {},
   "source": [
    "(32) Implement a function to calculate the power of a number using recursion"
   ]
  },
  {
   "cell_type": "code",
   "execution_count": 61,
   "id": "fc95db35-2dca-4a42-a376-a6c11212ea69",
   "metadata": {},
   "outputs": [
    {
     "name": "stdout",
     "output_type": "stream",
     "text": [
      "2 raised to the power of 4 is: 16\n"
     ]
    }
   ],
   "source": [
    "def power(base, exponent):\n",
    "    if exponent == 0:\n",
    "        return 1\n",
    "    elif exponent < 0:\n",
    "        return 1 / power(base, -exponent)\n",
    "    else:\n",
    "        return base * power(base, exponent - 1)\n",
    "\n",
    "\n",
    "# Example usage\n",
    "base = 2\n",
    "exponent = 4\n",
    "result = power(base, exponent)\n",
    "print(f\"{base} raised to the power of {exponent} is: {result}\")\n"
   ]
  },
  {
   "cell_type": "markdown",
   "id": "73029741-e11d-49cb-86c0-4051b7c19c9f",
   "metadata": {},
   "source": []
  },
  {
   "cell_type": "markdown",
   "id": "eeb8f69c-f8f0-4e7a-8b6b-3e6b4dff44bd",
   "metadata": {},
   "source": []
  },
  {
   "cell_type": "markdown",
   "id": "93b3472b-a27c-4ae3-b65b-557e97ed86bf",
   "metadata": {},
   "source": [
    "(33) Write a Python program to remove duplicates from a list while preserving the order"
   ]
  },
  {
   "cell_type": "code",
   "execution_count": 62,
   "id": "50156fba-4832-4363-ada2-0fab1b4e8522",
   "metadata": {},
   "outputs": [
    {
     "name": "stdout",
     "output_type": "stream",
     "text": [
      "List with Duplicates Removed: [1, 2, 3, 4, 5, 6]\n"
     ]
    }
   ],
   "source": [
    "def remove_duplicates(lst):\n",
    "    unique_list = []\n",
    "    for item in lst:\n",
    "        if item not in unique_list:\n",
    "            unique_list.append(item)\n",
    "    return unique_list\n",
    "\n",
    "my_list = [1, 2, 3, 2, 4, 3, 5, 6, 1]\n",
    "result = remove_duplicates(my_list)\n",
    "print(\"List with Duplicates Removed:\", result)\n"
   ]
  },
  {
   "cell_type": "markdown",
   "id": "b2af4c96-8874-48a5-867a-36112e8357c0",
   "metadata": {},
   "source": []
  },
  {
   "cell_type": "markdown",
   "id": "424bdf55-83a5-4985-86e4-e5537fed04cb",
   "metadata": {},
   "source": []
  },
  {
   "cell_type": "markdown",
   "id": "c8f314ec-1a97-48e7-a76f-3b039b872dd2",
   "metadata": {},
   "source": [
    "(34) Implement a function to find the longest common prefix among a list of strings"
   ]
  },
  {
   "cell_type": "code",
   "execution_count": 63,
   "id": "95b99d72-4815-4050-bab1-dbf0fbf2be08",
   "metadata": {},
   "outputs": [
    {
     "name": "stdout",
     "output_type": "stream",
     "text": [
      "Longest Common Prefix: fl\n"
     ]
    }
   ],
   "source": [
    "def find_longest_common_prefix(strs):\n",
    "    if not strs:\n",
    "        return \"\"\n",
    "    \n",
    "    prefix = strs[0]  # Start with the first string as the initial prefix\n",
    "    \n",
    "    # Compare the prefix with each string in the list\n",
    "    for string in strs[1:]:\n",
    "        while string[:len(prefix)] != prefix:\n",
    "            prefix = prefix[:-1]  # Reduce the prefix by one character\n",
    "            \n",
    "            # If the prefix becomes empty, there is no common prefix\n",
    "            if not prefix:\n",
    "                return \"\"\n",
    "    \n",
    "    return prefix\n",
    "\n",
    "\n",
    "# Example usage\n",
    "strings = [\"flower\", \"flow\", \"flight\"]\n",
    "common_prefix = find_longest_common_prefix(strings)\n",
    "print(\"Longest Common Prefix:\", common_prefix)\n"
   ]
  },
  {
   "cell_type": "markdown",
   "id": "20a9d920-497c-4fb1-95d4-2a97b03ea255",
   "metadata": {},
   "source": []
  },
  {
   "cell_type": "markdown",
   "id": "e60ee11a-e429-4f1e-b16d-e29a6e887f57",
   "metadata": {},
   "source": []
  },
  {
   "cell_type": "markdown",
   "id": "c47b97dc-ea71-4ea9-a6fc-5ed90dbb73dc",
   "metadata": {},
   "source": [
    "(35) Write a program to check if a given number is a perfect square."
   ]
  },
  {
   "cell_type": "code",
   "execution_count": 64,
   "id": "6c1ba6a6-6ac3-43f7-aaf1-09acb1542a06",
   "metadata": {},
   "outputs": [
    {
     "name": "stdout",
     "output_type": "stream",
     "text": [
      "16 is a perfect square.\n"
     ]
    }
   ],
   "source": [
    "def is_perfect_square(number):\n",
    "    if number < 0:\n",
    "        return False\n",
    "    \n",
    "    # Use the property of perfect squares\n",
    "    root = int(number ** 0.5)\n",
    "    return root * root == number\n",
    "\n",
    "\n",
    "# Example usage\n",
    "number = 16\n",
    "if is_perfect_square(number):\n",
    "    print(f\"{number} is a perfect square.\")\n",
    "else:\n",
    "    print(f\"{number} is not a perfect square.\")\n"
   ]
  },
  {
   "cell_type": "markdown",
   "id": "aa81e7e6-444b-4113-9f91-1bf276c596a2",
   "metadata": {},
   "source": []
  },
  {
   "cell_type": "markdown",
   "id": "1e53ec28-5392-4be5-904a-392def98eba8",
   "metadata": {},
   "source": []
  },
  {
   "cell_type": "markdown",
   "id": "f42d2866-8702-47cb-be70-b8a25946e8f2",
   "metadata": {},
   "source": [
    "(36) Implement a function to calculate the product of all elements in a list."
   ]
  },
  {
   "cell_type": "code",
   "execution_count": 65,
   "id": "f6ac1854-c446-48ec-abbd-90dfc16e3dfc",
   "metadata": {},
   "outputs": [
    {
     "name": "stdout",
     "output_type": "stream",
     "text": [
      "Product: 120\n"
     ]
    }
   ],
   "source": [
    "def calculate_product(numbers):\n",
    "    product = 1\n",
    "    for num in numbers:\n",
    "        product *= num\n",
    "    return product\n",
    "\n",
    "\n",
    "# Example usage\n",
    "my_list = [1, 2, 3, 4, 5]\n",
    "result = calculate_product(my_list)\n",
    "print(\"Product:\", result)\n"
   ]
  },
  {
   "cell_type": "markdown",
   "id": "fc19373b-6cb5-49c5-ace8-5891c9edb269",
   "metadata": {},
   "source": []
  },
  {
   "cell_type": "markdown",
   "id": "2cd872ed-1a96-470a-917b-926e77b05c7c",
   "metadata": {},
   "source": []
  },
  {
   "cell_type": "markdown",
   "id": "54e555a5-3e64-4fa1-8937-c7da608cc161",
   "metadata": {},
   "source": [
    "(37) Write a Python program to reverse the order of words in a sentence while preserving the word order."
   ]
  },
  {
   "cell_type": "code",
   "execution_count": 66,
   "id": "2c2f327c-d9d0-4f73-a934-1294d98131c2",
   "metadata": {},
   "outputs": [
    {
     "name": "stdout",
     "output_type": "stream",
     "text": [
      "Reversed Sentence: you? are how Hello,\n"
     ]
    }
   ],
   "source": [
    "def reverse_words(sentence):\n",
    "    words = sentence.split()\n",
    "    reversed_words = words[::-1]\n",
    "    reversed_sentence = ' '.join(reversed_words)\n",
    "    return reversed_sentence\n",
    "\n",
    "\n",
    "# Example usage\n",
    "sentence = \"Hello, how are you?\"\n",
    "reversed_sentence = reverse_words(sentence)\n",
    "print(\"Reversed Sentence:\", reversed_sentence)\n"
   ]
  },
  {
   "cell_type": "markdown",
   "id": "67e4599a-c360-4dc7-8689-3128e2d31723",
   "metadata": {},
   "source": []
  },
  {
   "cell_type": "markdown",
   "id": "dda676ea-0258-4428-8f59-17e4f6da7243",
   "metadata": {},
   "source": []
  },
  {
   "cell_type": "markdown",
   "id": "59e4a53c-56ec-4daa-bf39-c6124c380764",
   "metadata": {},
   "source": [
    "(38) Implement a function to find the missing number in a given list of consecutive numbers."
   ]
  },
  {
   "cell_type": "code",
   "execution_count": 67,
   "id": "4a50e286-a7e3-4a6c-8441-bb506602be7d",
   "metadata": {},
   "outputs": [
    {
     "name": "stdout",
     "output_type": "stream",
     "text": [
      "Missing Number: 4\n"
     ]
    }
   ],
   "source": [
    "def find_missing_number(numbers):\n",
    "    n = len(numbers) + 1  # Total number of elements including the missing one\n",
    "    expected_sum = (n * (n + 1)) // 2  # Sum of all elements in the consecutive range\n",
    "    actual_sum = sum(numbers)  # Sum of the given numbers\n",
    "    missing_number = expected_sum - actual_sum\n",
    "    return missing_number\n",
    "\n",
    "numbers = [1, 2, 3, 5, 6, 7, 8]\n",
    "missing_number = find_missing_number(numbers)\n",
    "print(\"Missing Number:\", missing_number)\n"
   ]
  },
  {
   "cell_type": "markdown",
   "id": "748c703b-e233-4efd-8eb4-4b1f4a623324",
   "metadata": {},
   "source": []
  },
  {
   "cell_type": "markdown",
   "id": "444e1e26-b57c-47de-b16f-3f15ed0a94db",
   "metadata": {},
   "source": []
  },
  {
   "cell_type": "markdown",
   "id": "0ca73693-2279-44f9-8f80-e9dba93318e0",
   "metadata": {},
   "source": [
    "(39) Write a program to find the sum of digits of a given number"
   ]
  },
  {
   "cell_type": "code",
   "execution_count": 68,
   "id": "80a1b1ae-8658-4e75-a16c-5c00268770a0",
   "metadata": {},
   "outputs": [
    {
     "name": "stdout",
     "output_type": "stream",
     "text": [
      "Sum of Digits: 15\n"
     ]
    }
   ],
   "source": [
    "def sum_of_digits(number):\n",
    "    # Convert the number to a string\n",
    "    number_str = str(number)\n",
    "    \n",
    "    # Initialize the sum\n",
    "    digit_sum = 0\n",
    "    \n",
    "    # Iterate over each digit and add it to the sum\n",
    "    for digit in number_str:\n",
    "        digit_sum += int(digit)\n",
    "    \n",
    "    return digit_sum\n",
    "\n",
    "\n",
    "# Example usage\n",
    "number = 12345\n",
    "digit_sum = sum_of_digits(number)\n",
    "print(\"Sum of Digits:\", digit_sum)\n"
   ]
  },
  {
   "cell_type": "markdown",
   "id": "e3670a56-01e0-4582-94c5-68a503c06c29",
   "metadata": {},
   "source": []
  },
  {
   "cell_type": "markdown",
   "id": "c28ada4b-9ed0-4cb6-b27f-5f74d351dffc",
   "metadata": {},
   "source": []
  },
  {
   "cell_type": "markdown",
   "id": "d07be9ef-2513-4e1d-9936-e54f5c71c5f6",
   "metadata": {},
   "source": [
    "(40) Implement a function to check if a given string is a valid palindrome considering case sensitivity."
   ]
  },
  {
   "cell_type": "code",
   "execution_count": 71,
   "id": "0957929c-3282-4e50-81ee-041ac20b61eb",
   "metadata": {},
   "outputs": [
    {
     "name": "stdout",
     "output_type": "stream",
     "text": [
      "'A man, a plan, a canal: Panama' is not a valid palindrome.\n"
     ]
    }
   ],
   "source": [
    "def is_valid_palindrome(string):\n",
    "    # Remove whitespace and convert to lowercase\n",
    "    string = string.replace(\" \", \"\").lower()\n",
    "    return string == string[::-1]\n",
    "\n",
    "\n",
    "# Example usage\n",
    "string = \"A man, a plan, a canal: Panama\"\n",
    "if is_valid_palindrome(string):\n",
    "    print(f\"'{string}' is a valid palindrome.\")\n",
    "else:\n",
    "    print(f\"'{string}' is not a valid palindrome.\")\n"
   ]
  },
  {
   "cell_type": "markdown",
   "id": "c9943964-a2dc-472c-af0c-bdf24d4e7810",
   "metadata": {},
   "source": []
  },
  {
   "cell_type": "markdown",
   "id": "a8365ea2-d9e2-4787-9479-95813d5b2075",
   "metadata": {},
   "source": []
  },
  {
   "cell_type": "markdown",
   "id": "d923213b-6385-4777-ba37-fe49b0b132cc",
   "metadata": {},
   "source": [
    "(41) Write a Python program to find the smallest missing positive integer in a list.\n"
   ]
  },
  {
   "cell_type": "code",
   "execution_count": 72,
   "id": "d3ffc5e1-9c01-429d-bd02-97b9e011434f",
   "metadata": {},
   "outputs": [
    {
     "name": "stdout",
     "output_type": "stream",
     "text": [
      "Smallest Missing Positive Integer: 2\n"
     ]
    }
   ],
   "source": [
    "def find_smallest_missing_positive(nums):\n",
    "    # Separate positive numbers from non-positive numbers\n",
    "    positive_nums = [num for num in nums if num > 0]\n",
    "    \n",
    "    # Check if the list is empty or does not contain any positive numbers\n",
    "    if not positive_nums:\n",
    "        return 1\n",
    "    \n",
    "    # Sort the positive numbers\n",
    "    positive_nums.sort()\n",
    "    \n",
    "    # Find the smallest missing positive integer\n",
    "    smallest_missing = 1\n",
    "    for num in positive_nums:\n",
    "        if num == smallest_missing:\n",
    "            smallest_missing += 1\n",
    "        elif num > smallest_missing:\n",
    "            return smallest_missing\n",
    "    \n",
    "    return smallest_missing\n",
    "\n",
    "\n",
    "# Example usage\n",
    "numbers = [3, 4, -1, 1]\n",
    "smallest_missing = find_smallest_missing_positive(numbers)\n",
    "print(\"Smallest Missing Positive Integer:\", smallest_missing)\n"
   ]
  },
  {
   "cell_type": "markdown",
   "id": "2370b0cc-b156-4848-a215-6780348c1d67",
   "metadata": {},
   "source": []
  },
  {
   "cell_type": "markdown",
   "id": "466d9e39-dd17-454e-9c12-275a45365529",
   "metadata": {},
   "source": []
  },
  {
   "cell_type": "markdown",
   "id": "aaa5d09d-7e3b-4d51-ac31-d61887405855",
   "metadata": {},
   "source": [
    "(42) Implement a function to find the longest palindrome substring in a given string"
   ]
  },
  {
   "cell_type": "code",
   "execution_count": 73,
   "id": "19a4cc2f-2a3b-4c56-b730-379b89c56dc6",
   "metadata": {},
   "outputs": [
    {
     "name": "stdout",
     "output_type": "stream",
     "text": [
      "Longest Palindrome Substring: aba\n"
     ]
    }
   ],
   "source": [
    "def longest_palindrome_substring(string):\n",
    "    if not string:\n",
    "        return \"\"\n",
    "    \n",
    "    start = 0\n",
    "    end = 0\n",
    "    \n",
    "    for i in range(len(string)):\n",
    "        len1 = expand_around_center(string, i, i)  # For odd-length palindromes\n",
    "        len2 = expand_around_center(string, i, i + 1)  # For even-length palindromes\n",
    "        max_len = max(len1, len2)\n",
    "        \n",
    "        if max_len > (end - start):\n",
    "            start = i - (max_len - 1) // 2\n",
    "            end = i + max_len // 2\n",
    "    \n",
    "    return string[start:end+1]\n",
    "\n",
    "\n",
    "def expand_around_center(string, left, right):\n",
    "    while left >= 0 and right < len(string) and string[left] == string[right]:\n",
    "        left -= 1\n",
    "        right += 1\n",
    "    \n",
    "    return right - left - 1\n",
    "\n",
    "string = \"babad\"\n",
    "longest_palindrome = longest_palindrome_substring(string)\n",
    "print(\"Longest Palindrome Substring:\", longest_palindrome)\n"
   ]
  },
  {
   "cell_type": "markdown",
   "id": "d1bc5635-48f2-41a8-b26e-ca3c12d426e4",
   "metadata": {},
   "source": []
  },
  {
   "cell_type": "markdown",
   "id": "cda64095-6441-45db-83c1-c618d65e01e9",
   "metadata": {},
   "source": []
  },
  {
   "cell_type": "markdown",
   "id": "78cba398-a817-4797-b5a0-8a590ad49b9d",
   "metadata": {},
   "source": [
    "(43) Write a program to find the number of occurrences of a given element in a list."
   ]
  },
  {
   "cell_type": "code",
   "execution_count": 74,
   "id": "96cd1d40-3a09-4e69-9b3f-ec8ec4b6b972",
   "metadata": {},
   "outputs": [
    {
     "name": "stdout",
     "output_type": "stream",
     "text": [
      "Number of Occurrences: 3\n"
     ]
    }
   ],
   "source": [
    "def count_occurrences(lst, element):\n",
    "    count = 0\n",
    "    for item in lst:\n",
    "        if item == element:\n",
    "            count += 1\n",
    "    return count\n",
    "\n",
    "\n",
    "# Example usage\n",
    "my_list = [1, 2, 3, 2, 4, 2, 5]\n",
    "target_element = 2\n",
    "occurrences = count_occurrences(my_list, target_element)\n",
    "print(\"Number of Occurrences:\", occurrences)\n"
   ]
  },
  {
   "cell_type": "markdown",
   "id": "62634e3b-37f3-43c2-94c9-2bc4fd83163a",
   "metadata": {},
   "source": []
  },
  {
   "cell_type": "markdown",
   "id": "f7aaa1c8-1a8f-495d-97c2-a18deda296ab",
   "metadata": {},
   "source": []
  },
  {
   "cell_type": "markdown",
   "id": "8a5fe999-7bbf-4f0c-92d7-cfb237fc23c1",
   "metadata": {},
   "source": [
    "(44) Implement a function to check if a given number is a perfect number."
   ]
  },
  {
   "cell_type": "code",
   "execution_count": 75,
   "id": "b24b08b7-9d81-46cf-acef-9424a0eb9924",
   "metadata": {},
   "outputs": [
    {
     "name": "stdout",
     "output_type": "stream",
     "text": [
      "28 is a perfect number.\n"
     ]
    }
   ],
   "source": [
    "def is_perfect_number(number):\n",
    "    if number <= 0:\n",
    "        return False\n",
    "    \n",
    "    divisor_sum = 0\n",
    "    \n",
    "    for i in range(1, number):\n",
    "        if number % i == 0:\n",
    "            divisor_sum += i\n",
    "    \n",
    "    return divisor_sum == number\n",
    "\n",
    "number = 28\n",
    "if is_perfect_number(number):\n",
    "    print(f\"{number} is a perfect number.\")\n",
    "else:\n",
    "    print(f\"{number} is not a perfect number.\")\n"
   ]
  },
  {
   "cell_type": "markdown",
   "id": "981b8f1b-a56e-4c8e-a89b-5e4ef1a8d505",
   "metadata": {},
   "source": []
  },
  {
   "cell_type": "markdown",
   "id": "45362df2-986a-49d4-b8f4-057da8cade82",
   "metadata": {},
   "source": []
  },
  {
   "cell_type": "markdown",
   "id": "736c16ef-1326-4806-aff4-98b08dcf5393",
   "metadata": {},
   "source": [
    "(45) Write a Python program to remove all duplicates from a string."
   ]
  },
  {
   "cell_type": "code",
   "execution_count": 76,
   "id": "35ebfac9-c6a1-4f22-b6a2-a751d6173990",
   "metadata": {},
   "outputs": [
    {
     "name": "stdout",
     "output_type": "stream",
     "text": [
      "String with Duplicates Removed: Helo, Wrd!\n"
     ]
    }
   ],
   "source": [
    "def remove_duplicates(string):\n",
    "    unique_chars = \"\"\n",
    "    for char in string:\n",
    "        if char not in unique_chars:\n",
    "            unique_chars += char\n",
    "    return unique_chars\n",
    "\n",
    "\n",
    "# Example usage\n",
    "my_string = \"Hello, World!\"\n",
    "result = remove_duplicates(my_string)\n",
    "print(\"String with Duplicates Removed:\", result)\n"
   ]
  },
  {
   "cell_type": "markdown",
   "id": "e9dc125f-9732-4c2f-baca-ec3305a2ced3",
   "metadata": {},
   "source": []
  },
  {
   "cell_type": "markdown",
   "id": "c36bbf26-4615-48e3-a718-1f53f4b8fdfc",
   "metadata": {},
   "source": []
  },
  {
   "cell_type": "markdown",
   "id": "aefbca78-17f2-4430-aee6-1a85cf5e31ac",
   "metadata": {},
   "source": [
    "(46) Implement a function to find the first missing positive\n"
   ]
  },
  {
   "cell_type": "code",
   "execution_count": 77,
   "id": "886b6c3a-e0ad-4211-8d54-00ebebd786bc",
   "metadata": {},
   "outputs": [
    {
     "name": "stdout",
     "output_type": "stream",
     "text": [
      "First Missing Positive Integer: 2\n"
     ]
    }
   ],
   "source": [
    "def find_first_missing_positive(nums):\n",
    "    # Separate positive numbers from non-positive numbers\n",
    "    positive_nums = set(num for num in nums if num > 0)\n",
    "    \n",
    "    # Check if the list is empty or does not contain any positive numbers\n",
    "    if not positive_nums:\n",
    "        return 1\n",
    "    \n",
    "    # Find the first missing positive integer\n",
    "    max_num = max(positive_nums)\n",
    "    \n",
    "    for i in range(1, max_num + 1):\n",
    "        if i not in positive_nums:\n",
    "            return i\n",
    "    \n",
    "    return max_num + 1\n",
    "\n",
    "numbers = [3, 4, -1, 1]\n",
    "first_missing = find_first_missing_positive(numbers)\n",
    "print(\"First Missing Positive Integer:\", first_missing)\n"
   ]
  }
 ],
 "metadata": {
  "kernelspec": {
   "display_name": "Python 3 (ipykernel)",
   "language": "python",
   "name": "python3"
  },
  "language_info": {
   "codemirror_mode": {
    "name": "ipython",
    "version": 3
   },
   "file_extension": ".py",
   "mimetype": "text/x-python",
   "name": "python",
   "nbconvert_exporter": "python",
   "pygments_lexer": "ipython3",
   "version": "3.10.6"
  }
 },
 "nbformat": 4,
 "nbformat_minor": 5
}
